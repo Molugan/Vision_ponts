{
  "cells": [
    {
      "cell_type": "markdown",
      "metadata": {
        "id": "WUsk5QsNHALR"
      },
      "source": [
        "# Partie 1 : des convolutions !"
      ]
    },
    {
      "cell_type": "code",
      "source": [
        "# @title Installation\n",
        "!pip3 uninstall --yes torch torchaudio torchvision torchtext torchdata\n",
        "!pip3 install torch torchaudio torchvision torchtext torchdata\n",
        "! git clone https://github.com/Molugan/Vision_ponts.git\n",
        "%cd /content/Vision_ponts"
      ],
      "metadata": {
        "id": "rj6KH_dTKiZC"
      },
      "execution_count": null,
      "outputs": []
    },
    {
      "cell_type": "code",
      "execution_count": null,
      "metadata": {
        "id": "wEH1evMOHALS"
      },
      "outputs": [],
      "source": [
        "# Commencons par charger les librairies necessaires\n",
        "import torch\n",
        "import sys\n",
        "from tools.tools import load_image\n",
        "import numpy as np\n",
        "from PIL import Image"
      ]
    },
    {
      "cell_type": "markdown",
      "metadata": {
        "id": "Q2Ft6Hl4HALT"
      },
      "source": [
        "## Exercice 1\n",
        "La fonction load_image vous permet de charger une image depuis un fichier et d'en faire un tensor torch. Par exemple vous pouvez charger la photo d'isha avec:"
      ]
    },
    {
      "cell_type": "code",
      "execution_count": null,
      "metadata": {
        "id": "sre0ImthHALT"
      },
      "outputs": [],
      "source": [
        "x = load_image('isha.jpg')"
      ]
    },
    {
      "cell_type": "markdown",
      "metadata": {
        "id": "mIKwXkBMHALT"
      },
      "source": [
        "Regardons alors la taille de x"
      ]
    },
    {
      "cell_type": "code",
      "execution_count": null,
      "metadata": {
        "id": "7BLHntP2HALT"
      },
      "outputs": [],
      "source": [
        "print(x.size())"
      ]
    },
    {
      "cell_type": "markdown",
      "source": [
        "Pour afficher l'image, vous pouvez utiliser la commande suivante:"
      ],
      "metadata": {
        "id": "dXt9QtEsNBxC"
      }
    },
    {
      "cell_type": "code",
      "source": [
        "Image.fromarray(x.numpy().astype(np.uint8))"
      ],
      "metadata": {
        "id": "NKfCeQhJMO4I"
      },
      "execution_count": null,
      "outputs": []
    },
    {
      "cell_type": "markdown",
      "source": [
        "Remarquez que la commande marche aussi si vous ne considérez qu'un seul des cannaux de l'image:"
      ],
      "metadata": {
        "id": "0pFPPsquNLwa"
      }
    },
    {
      "cell_type": "code",
      "source": [
        "Image.fromarray(x[:, :, 0].numpy().astype(np.uint8))"
      ],
      "metadata": {
        "id": "HsU-7i-SNSoS"
      },
      "execution_count": null,
      "outputs": []
    },
    {
      "cell_type": "markdown",
      "metadata": {
        "id": "B14qYactHALT"
      },
      "source": [
        "## Exercice 2\n",
        "Le tenseur à le format suivant : Hauteur x Largeur x 3. Une image a en effet 3 cannaux : Rouge, Vert et Bleu.\n",
        "\n",
        "Vous pouvez accedez à chaque cannal de façon individuelle avec x[:, :, index_cannal].\n",
        "\n",
        "Utilisez la fonction save_image pour sauvegarder séparement les cannaux R, V, B de l'image x."
      ]
    },
    {
      "cell_type": "code",
      "execution_count": null,
      "metadata": {
        "id": "tMtzRxv3HALT"
      },
      "outputs": [],
      "source": [
        "# Votre code ici !"
      ]
    },
    {
      "cell_type": "markdown",
      "metadata": {
        "id": "ofIKpvhpHALT"
      },
      "source": [
        "## Exercice 3\n",
        "Les couleurs c'est bien jolis mais ce n'est pas pratique pour faire des manipulations.\n",
        "\n",
        "Definissez une fonction qui étant donné un vecteur image en fait une image en niveau de gris en moyennant les cannaux Rouges, Vert, Bleu\n",
        "\n",
        "L'image de sortie doit avoir le format suivant Hauteur x Largeur"
      ]
    },
    {
      "cell_type": "code",
      "execution_count": null,
      "metadata": {
        "id": "_HA3UbLuHALT"
      },
      "outputs": [],
      "source": [
        "def rgb_to_grey(x):\n",
        "    # Votre code ici\n",
        "    return"
      ]
    },
    {
      "cell_type": "code",
      "execution_count": null,
      "metadata": {
        "id": "6qn2Sby4HALT"
      },
      "outputs": [],
      "source": [
        "# Testez votre code ici\n",
        "x = load_image('isha.jpg')\n",
        "x = rgb_to_grey(x)\n",
        "Image.fromarray(x.numpy().astype(np.uint8))"
      ]
    },
    {
      "cell_type": "markdown",
      "metadata": {
        "id": "7JjzhH5rHALT"
      },
      "source": [
        "## Exercice 4\n",
        "\n",
        "Appliquons des filtres à des images: le plus souvent on appelle \"filtre\" une convolution. Pytorch possède un module codant les convolutions, il s'agit de nn.Conv2d.\n",
        "\n",
        "Par exemple la fonction suivante calcul le gradient selon l'axe x (grad_x)"
      ]
    },
    {
      "cell_type": "code",
      "execution_count": null,
      "metadata": {
        "id": "LTP2vtmoHALT"
      },
      "outputs": [],
      "source": [
        "def build_conv_grad_x():\n",
        "\n",
        "    output = torch.nn.Conv2d(1,         # Nombre de cannaux dans l'image d'entrée, nous travaillons avec des images en noir et blanc donc 1\n",
        "                             1,         # Nombre de cannaux dans l'image de sortie\n",
        "                             3,         # Taille du noyau de comvolution\n",
        "                             padding=1) # Nombre de lignes zéros à ajouter à l'image lors de la convolution\n",
        "\n",
        "    # Le noyau de convolution est de taille trois, cela veut dire que la convolution est effectuée par une matrice 3x3\n",
        "    core = torch.tensor([[0, 0, 0],\n",
        "                         [-1, 0, 1],\n",
        "                         [0, 0, 0]], dtype=torch.float)\n",
        "    output.weight.data.copy_(core)\n",
        "    return output"
      ]
    },
    {
      "cell_type": "markdown",
      "metadata": {
        "id": "Zt-zjmlTHALU"
      },
      "source": [
        "La fonction ci dessous applique un filtre à une image noir et blanc au format Hauteur x Largeur"
      ]
    },
    {
      "cell_type": "code",
      "execution_count": null,
      "metadata": {
        "id": "aH-sP7XCHALU"
      },
      "outputs": [],
      "source": [
        "def applique_filtre(x, filtre):\n",
        "\n",
        "    H, L = x.size()\n",
        "\n",
        "    # Les modules torch.nn.Conv2d ne prennent en entrée que des batches au format\n",
        "    # Nombres d'images x Nombre de cannals par image x Hauteur d'une image x Largeur d'une image\n",
        "    # La méthode torch.tensor.view permet de faire ça: une image H x L c'est aussi\n",
        "    # un batch ne contenant qu'une image avec un seul cannal\n",
        "    x = x.view(1, 1, H, L)\n",
        "\n",
        "    # Appliquer le filtre\n",
        "    x = filtre(x)\n",
        "\n",
        "    # Remettre x au format H, L\n",
        "    x = x.view(H, L)\n",
        "\n",
        "    # Retourner le résultat\n",
        "    return x"
      ]
    },
    {
      "cell_type": "markdown",
      "metadata": {
        "id": "BWlXsP11HALU"
      },
      "source": [
        "Utilisez les deux fonctions ci-dessus pour tester grad_x et utilisez PIL pour visualiser le résultat.\n",
        "Vous remarquerez que le gradient peut être négatif: puisque seule la valeur du gradient nous intéresse et non sa direction, utilisez la méthode torch.abs pour ne garder que la valeur absolue de grad_x"
      ]
    },
    {
      "cell_type": "code",
      "execution_count": null,
      "metadata": {
        "id": "_UsSX3DoHALU"
      },
      "outputs": [],
      "source": [
        "# Votre code ici"
      ]
    },
    {
      "cell_type": "markdown",
      "metadata": {
        "id": "d1NGQxM6HALU"
      },
      "source": [
        "## Exercice 5\n",
        "\n",
        "De la même manière, définissez et testez:\n",
        "\n",
        "- une convolution pour extraire le gradient selon l'axe y\n",
        "\n",
        "- une convolution pour extraitre la somme des gradients selon les axes x et y\n",
        "\n",
        "- un filtre moyen: chaque pixel est remplacé par la moyenne de ses voisins sur un carré de taille 3x3\n",
        "\n",
        "- un gros filtre moyen: chaque pixel est remplacé par la moyenne de ses voisins sur un carré de taille 9x9 (Attention au padding !!!!)"
      ]
    },
    {
      "cell_type": "code",
      "execution_count": null,
      "metadata": {
        "id": "XXVkckY2HALU"
      },
      "outputs": [],
      "source": [
        "def build_conv_grad_y():\n",
        "    r\"\"\"\n",
        "    Construit une convolution calculant un gradient selon l'axe y\n",
        "    \"\"\"\n",
        "    # Votre code ici\n",
        "    return"
      ]
    },
    {
      "cell_type": "code",
      "execution_count": null,
      "metadata": {
        "id": "fZD85TyNHALU"
      },
      "outputs": [],
      "source": [
        "def build_conv_grad_sum_xy():\n",
        "    r\"\"\"\n",
        "    Construit une convolution calculant la somme des gradients selon les axes x et y\n",
        "    \"\"\"\n",
        "    return"
      ]
    },
    {
      "cell_type": "code",
      "execution_count": null,
      "metadata": {
        "id": "ObN0oK9yHALU"
      },
      "outputs": [],
      "source": [
        "def build_conv_mean_3x3():\n",
        "    r\"\"\"\n",
        "    Construit une convolution calculant la moyenne locale sur un noyau carré de taille 3x3\n",
        "    \"\"\"\n",
        "    return"
      ]
    },
    {
      "cell_type": "code",
      "execution_count": null,
      "metadata": {
        "id": "XxEWQ8O-HALU"
      },
      "outputs": [],
      "source": [
        "def build_conv_mean_9x9():\n",
        "    r\"\"\"\n",
        "    Construit une convolution calculant la moyenne locale sur un noyau carré de taille 9x9\n",
        "    \"\"\"\n",
        "    return"
      ]
    },
    {
      "cell_type": "markdown",
      "metadata": {
        "id": "rW-v8QMZHALU"
      },
      "source": [
        "## Exercice 6:\n",
        "\n",
        "Vous allez à présent programmer un détecteur de bord.\n",
        "\n",
        "Appliquez votre filtre build_conv_grad_sum_xy à une image I pour estimer son gradient grad_I.\n",
        "\n",
        "Construisez alors une image J valant 0 sur tous les points où abs(grad_I) < 100 et 1 ailleurs.\n",
        "\n",
        "Faites variez ce seuil pour en regarder les effets"
      ]
    },
    {
      "cell_type": "code",
      "execution_count": null,
      "metadata": {
        "id": "mU0vftBiHALU"
      },
      "outputs": [],
      "source": [
        "def extraction_des_bords(x):\n",
        "    r\"\"\"\n",
        "    Extrait les bords de l'image d'entrée x.\n",
        "    \"\"\"\n",
        "    # Votre code ici\n",
        "    return"
      ]
    },
    {
      "cell_type": "markdown",
      "metadata": {
        "id": "KhtEwg4wHALU"
      },
      "source": [
        "## Exercice 7 (BONUS)\n",
        "Regardons à présent ce qui se passe lorsque l'on combine des filtres.\n",
        "\n",
        "Regardez les effets des fonctions suivantes"
      ]
    },
    {
      "cell_type": "code",
      "execution_count": null,
      "metadata": {
        "id": "4-A9YfNmHALU"
      },
      "outputs": [],
      "source": [
        "def mean_3x3_combo(x, n_combo):\n",
        "    mean_3x3 = build_conv_mean_3x3()\n",
        "    for _ in range(n_combo):\n",
        "        x = applique_filtre(x, mean_3x3)\n",
        "    return x\n",
        "\n",
        "\n",
        "def diff_mean_combo(x):\n",
        "    mean_3x3 = build_conv_mean_3x3()\n",
        "    return 2 * torch.abs(x - applique_filtre(x, mean_3x3))"
      ]
    },
    {
      "cell_type": "code",
      "execution_count": null,
      "metadata": {
        "id": "B2xiN83sHALU"
      },
      "outputs": [],
      "source": [
        "# Votre code ici !"
      ]
    },
    {
      "cell_type": "markdown",
      "metadata": {
        "id": "mjX8pSmGHALU"
      },
      "source": [
        "Définissez la convoliution à laquelle correspond diff_mean_combo() :"
      ]
    },
    {
      "cell_type": "code",
      "execution_count": null,
      "metadata": {
        "id": "A2eIGOSNHALU"
      },
      "outputs": [],
      "source": [
        "def diff_mean_combo_2():\n",
        "    r\"\"\"\n",
        "    Construit la convolution équivalente à la fonction diff_mean_combo.\n",
        "    \"\"\"\n",
        "    return"
      ]
    },
    {
      "cell_type": "markdown",
      "metadata": {
        "id": "6W0-STnyHALU"
      },
      "source": [
        "Définissez la convoliution à laquelle correspond mean_3x3_combo(x, 2) :"
      ]
    },
    {
      "cell_type": "code",
      "execution_count": null,
      "metadata": {
        "id": "LHOHPYtkHALU"
      },
      "outputs": [],
      "source": [
        "def mean_3x3_combo_x2():\n",
        "    r\"\"\"\n",
        "    Construit la convolution équivalente à la fonction mean_3x3_combo.\n",
        "    \"\"\"\n",
        "    return"
      ]
    }
  ],
  "metadata": {
    "kernelspec": {
      "display_name": "Python 3",
      "language": "python",
      "name": "python3"
    },
    "language_info": {
      "codemirror_mode": {
        "name": "ipython",
        "version": 3
      },
      "file_extension": ".py",
      "mimetype": "text/x-python",
      "name": "python",
      "nbconvert_exporter": "python",
      "pygments_lexer": "ipython3",
      "version": "3.7.5"
    },
    "colab": {
      "provenance": []
    }
  },
  "nbformat": 4,
  "nbformat_minor": 0
}